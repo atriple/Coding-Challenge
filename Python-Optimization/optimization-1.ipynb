{
 "cells": [
  {
   "cell_type": "markdown",
   "metadata": {},
   "source": [
    "$min \\; \\; x_1 x_4(x_1 + x_2 + x_3) + x_3 \\\\ \n",
    "s.t. \\; \\; x_1 x_2 x_3 x_4 \\geq  25 \\\\\n",
    "1 \\leq x_1, x_2, x_3, x_4 \\leq 5 \\\\\n",
    "x_0 = (1,5,5,1)$"
   ]
  },
  {
   "cell_type": "code",
   "execution_count": null,
   "metadata": {},
   "outputs": [],
   "source": [
    "import numpy as np\n",
    "from scipy.optimize import minimize"
   ]
  }
 ],
 "metadata": {
  "kernelspec": {
   "display_name": "Python 3",
   "language": "python",
   "name": "python3"
  },
  "language_info": {
   "codemirror_mode": {
    "name": "ipython",
    "version": 3
   },
   "file_extension": ".py",
   "mimetype": "text/x-python",
   "name": "python",
   "nbconvert_exporter": "python",
   "pygments_lexer": "ipython3",
   "version": "3.7.1"
  }
 },
 "nbformat": 4,
 "nbformat_minor": 2
}
