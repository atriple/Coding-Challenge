{
 "cells": [
  {
   "cell_type": "markdown",
   "metadata": {},
   "source": [
    "$min \\; \\; x_1 x_4(x_1 + x_2 + x_3) + x_3 \\\\ \n",
    "s.t. \\; \\; x_1 x_2 x_3 x_4 \\geq  25 \\\\\n",
    "x_1^2 x_2^2 x_3^2 x_4^2 = 40 \\\\\n",
    "1 \\leq x_1, x_2, x_3, x_4 \\leq 5 \\\\\n",
    "x_0 = (1,5,5,1)$"
   ]
  },
  {
   "cell_type": "code",
   "execution_count": 1,
   "metadata": {},
   "outputs": [],
   "source": [
    "import numpy as np\n",
    "from scipy.optimize import minimize"
   ]
  },
  {
   "cell_type": "code",
   "execution_count": 2,
   "metadata": {},
   "outputs": [],
   "source": [
    "# Objective Function\n",
    "def objective(x):\n",
    "    #Defining the variable name is optional, makes it less confusing (but it's much more better if you go direct)\n",
    "    x1, x2, x3, x4 = x[0], x[1], x[2], x[3]\n",
    "    return x1 * x4 * (x1 + x2 + x3) + x3\n",
    "\n",
    "#Constraints\n",
    "def constraint1(x):\n",
    "    return x[0] * x[1] * x[2] * x[3] - 25.0\n",
    "\n",
    "def constraint2(x):\n",
    "    z = 40\n",
    "    for i in x:\n",
    "        z = z - i ** 2\n",
    "    return z"
   ]
  },
  {
   "cell_type": "code",
   "execution_count": 3,
   "metadata": {},
   "outputs": [
    {
     "name": "stdout",
     "output_type": "stream",
     "text": [
      "16\n"
     ]
    }
   ],
   "source": [
    "#Initival Values\n",
    "x0 = [1,5,5,1]\n",
    "print(objective(x0))"
   ]
  },
  {
   "cell_type": "code",
   "execution_count": 4,
   "metadata": {},
   "outputs": [
    {
     "name": "stdout",
     "output_type": "stream",
     "text": [
      "[{'type': 'ineq', 'fun': <function constraint1 at 0x000001F54C8639D8>}, {'type': 'eq', 'fun': <function constraint2 at 0x000001F54C863C80>}]\n"
     ]
    }
   ],
   "source": [
    "b = (1.0, 5.0)\n",
    "bounds_x = (b, b, b, b)\n",
    "constr1 = {'type': 'ineq', 'fun': constraint1}\n",
    "constr2 = {'type': 'eq', 'fun': constraint2}\n",
    "constr_all = [constr1, constr2]\n",
    "print(constr_all)"
   ]
  },
  {
   "cell_type": "code",
   "execution_count": 5,
   "metadata": {},
   "outputs": [
    {
     "name": "stdout",
     "output_type": "stream",
     "text": [
      "     fun: 17.01401724563517\n",
      "     jac: array([14.57227015,  1.37940764,  2.37940764,  9.56415057])\n",
      " message: 'Optimization terminated successfully.'\n",
      "    nfev: 30\n",
      "     nit: 5\n",
      "    njev: 5\n",
      "  status: 0\n",
      " success: True\n",
      "       x: array([1.        , 4.7429961 , 3.82115462, 1.37940765])\n"
     ]
    }
   ],
   "source": [
    "# The solution\n",
    "# Solving using SLSQP - Sequential Least Squares Programming\n",
    "sol = minimize(objective,x0,method='SLSQP',bounds = bounds_x, constraints = constr_all)\n",
    "print(sol)"
   ]
  },
  {
   "cell_type": "code",
   "execution_count": 6,
   "metadata": {},
   "outputs": [
    {
     "name": "stdout",
     "output_type": "stream",
     "text": [
      "[1.         4.7429961  3.82115462 1.37940765]\n",
      "17.01401724563517\n"
     ]
    }
   ],
   "source": [
    "#The results of x\n",
    "print(sol.x)\n",
    "#The value of function\n",
    "print(sol.fun)"
   ]
  },
  {
   "cell_type": "code",
   "execution_count": null,
   "metadata": {},
   "outputs": [],
   "source": []
  }
 ],
 "metadata": {
  "kernelspec": {
   "display_name": "Python 3",
   "language": "python",
   "name": "python3"
  },
  "language_info": {
   "codemirror_mode": {
    "name": "ipython",
    "version": 3
   },
   "file_extension": ".py",
   "mimetype": "text/x-python",
   "name": "python",
   "nbconvert_exporter": "python",
   "pygments_lexer": "ipython3",
   "version": "3.7.1"
  }
 },
 "nbformat": 4,
 "nbformat_minor": 2
}
